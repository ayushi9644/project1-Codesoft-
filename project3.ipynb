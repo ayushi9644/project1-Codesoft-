{
 "cells": [
  {
   "cell_type": "markdown",
   "id": "8449150a",
   "metadata": {},
   "source": [
    "# 3. A password generator is a useful tool that generates strong andrandom passwords for users. This project aims to create a password generator application using Python, allowing users to specify the length and complexity of the password.\n",
    "User Input: Prompt the user to specify the desired length of the password. Generate Password: Use a combination of random characters to generate a password of the specified length. Display the Password: Print the generated password on the screen."
   ]
  },
  {
   "cell_type": "code",
   "execution_count": 1,
   "id": "d81044bb",
   "metadata": {},
   "outputs": [
    {
     "name": "stdout",
     "output_type": "stream",
     "text": [
      "Enter the desired password length: 4\n",
      "Generated Password: wzW+\n"
     ]
    }
   ],
   "source": [
    "import random\n",
    "import string\n",
    "\n",
    "def generate_password(length):\n",
    "    # Define character sets for the password\n",
    "    lowercase_letters = string.ascii_lowercase\n",
    "    uppercase_letters = string.ascii_uppercase\n",
    "    digits = string.digits\n",
    "    special_characters = string.punctuation\n",
    "\n",
    "    # Combine character sets based on user preferences\n",
    "    all_characters = lowercase_letters + uppercase_letters + digits + special_characters\n",
    "\n",
    "    # Check if the user provided password length is valid\n",
    "    if length <= 0:\n",
    "        return \"Password length must be greater than zero.\"\n",
    "\n",
    "    # Generate the password\n",
    "    password = ''.join(random.choice(all_characters) for _ in range(length))\n",
    "    return password\n",
    "\n",
    "if __name__ == \"__main__\":\n",
    "    try:\n",
    "        # Prompt the user for the desired password length\n",
    "        password_length = int(input(\"Enter the desired password length: \"))\n",
    "\n",
    "        # Generate and display the password\n",
    "        generated_password = generate_password(password_length)\n",
    "        print(\"Generated Password:\", generated_password)\n",
    "    except ValueError:\n",
    "        print(\"Invalid input. Please enter a valid password length.\")"
   ]
  },
  {
   "cell_type": "code",
   "execution_count": null,
   "id": "e6350c3b",
   "metadata": {},
   "outputs": [],
   "source": []
  }
 ],
 "metadata": {
  "kernelspec": {
   "display_name": "Python 3 (ipykernel)",
   "language": "python",
   "name": "python3"
  },
  "language_info": {
   "codemirror_mode": {
    "name": "ipython",
    "version": 3
   },
   "file_extension": ".py",
   "mimetype": "text/x-python",
   "name": "python",
   "nbconvert_exporter": "python",
   "pygments_lexer": "ipython3",
   "version": "3.11.4"
  }
 },
 "nbformat": 4,
 "nbformat_minor": 5
}
