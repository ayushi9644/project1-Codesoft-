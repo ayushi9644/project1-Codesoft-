{
 "cells": [
  {
   "cell_type": "markdown",
   "id": "324604d7",
   "metadata": {},
   "source": [
    "# 2.User Input: Prompt the user to choose rock, paper, or scissors.Computer Selection: Generate a random choice (rock, paper, or scissors) for the computer.\n",
    "Game Logic: Determine the winner based on the user's choice and the computer's choice.\n",
    "Rock beats scissors, scissors beat paper, and paper beats rock.\n",
    "Display Result: Show the user's choice and the computer's choice.\n",
    "Display the result, whether the user wins, loses, or it's a tie.\n",
    "Score Tracking (Optional): Keep track of the user's and computer's scores for multiple rounds.\n",
    "Play Again: Ask the user if they want to play another round.\n",
    "User Interface: Design a user-friendly interface with clear instructions and feedback."
   ]
  },
  {
   "cell_type": "code",
   "execution_count": 3,
   "id": "04f19780",
   "metadata": {},
   "outputs": [
    {
     "name": "stdout",
     "output_type": "stream",
     "text": [
      "Welcome to Rock, Paper, Scissors!\n",
      "Choose Rock, Paper, or Scissors: Rock\n",
      "You chose: rock\n",
      "Computer chose: rock\n",
      "It's a tie!\n",
      "Score: You 0 - 0 Computer\n",
      "Do you want to play again? (yes/no): yes\n",
      "Choose Rock, Paper, or Scissors: Paper\n",
      "You chose: paper\n",
      "Computer chose: scissors\n",
      "Computer wins this round!\n",
      "Score: You 0 - 1 Computer\n",
      "Do you want to play again? (yes/no): yes \n",
      "Choose Rock, Paper, or Scissors: Scissors\n",
      "You chose: scissors\n",
      "Computer chose: scissors\n",
      "It's a tie!\n",
      "Score: You 0 - 1 Computer\n",
      "Do you want to play again? (yes/no): no\n",
      "Thanks for playing!\n"
     ]
    }
   ],
   "source": [
    "import random\n",
    "\n",
    "def get_user_choice():\n",
    "    # Prompt the user to choose rock, paper, or scissors\n",
    "    while True:\n",
    "        user_choice = input(\"Choose Rock, Paper, or Scissors: \").strip().lower()\n",
    "        if user_choice in [\"rock\", \"paper\", \"scissors\"]:\n",
    "            return user_choice\n",
    "        else:\n",
    "            print(\"Invalid choice. Please choose Rock, Paper, or Scissors.\")\n",
    "\n",
    "def get_computer_choice():\n",
    "    # Generate a random choice for the computer\n",
    "    return random.choice([\"rock\", \"paper\", \"scissors\"])\n",
    "\n",
    "def determine_winner(user_choice, computer_choice):\n",
    "    # Determine the winner based on the game logic\n",
    "    if user_choice == computer_choice:\n",
    "        return \"tie\"\n",
    "    elif (\n",
    "        (user_choice == \"rock\" and computer_choice == \"scissors\") or\n",
    "        (user_choice == \"scissors\" and computer_choice == \"paper\") or\n",
    "        (user_choice == \"paper\" and computer_choice == \"rock\")\n",
    "    ):\n",
    "        return \"user\"\n",
    "    else:\n",
    "        return \"computer\"\n",
    "\n",
    "def main():\n",
    "    user_score = 0\n",
    "    computer_score = 0\n",
    "\n",
    "    print(\"Welcome to Rock, Paper, Scissors!\")\n",
    "\n",
    "    while True:\n",
    "        user_choice = get_user_choice()\n",
    "        computer_choice = get_computer_choice()\n",
    "\n",
    "        print(f\"You chose: {user_choice}\")\n",
    "        print(f\"Computer chose: {computer_choice}\")\n",
    "\n",
    "        winner = determine_winner(user_choice, computer_choice)\n",
    "\n",
    "        if winner == \"user\":\n",
    "            user_score += 1\n",
    "            print(\"You win this round!\")\n",
    "        elif winner == \"computer\":\n",
    "            computer_score += 1\n",
    "            print(\"Computer wins this round!\")\n",
    "        else:\n",
    "            print(\"It's a tie!\")\n",
    "\n",
    "        print(f\"Score: You {user_score} - {computer_score} Computer\")\n",
    "\n",
    "        play_again = input(\"Do you want to play again? (yes/no): \").strip().lower()\n",
    "        if play_again != \"yes\":\n",
    "            break\n",
    "\n",
    "    print(\"Thanks for playing!\")\n",
    "\n",
    "if __name__ == \"__main__\":\n",
    "    main()\n"
   ]
  },
  {
   "cell_type": "code",
   "execution_count": null,
   "id": "6486062b",
   "metadata": {},
   "outputs": [],
   "source": []
  }
 ],
 "metadata": {
  "kernelspec": {
   "display_name": "Python 3 (ipykernel)",
   "language": "python",
   "name": "python3"
  },
  "language_info": {
   "codemirror_mode": {
    "name": "ipython",
    "version": 3
   },
   "file_extension": ".py",
   "mimetype": "text/x-python",
   "name": "python",
   "nbconvert_exporter": "python",
   "pygments_lexer": "ipython3",
   "version": "3.11.4"
  }
 },
 "nbformat": 4,
 "nbformat_minor": 5
}
