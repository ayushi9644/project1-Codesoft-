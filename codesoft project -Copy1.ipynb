{
 "cells": [
  {
   "cell_type": "markdown",
   "id": "ed5c858d",
   "metadata": {},
   "source": [
    "#  1. Design a simple calculator with basic arithmetic operations.Prompt the user to input two numbers and an operation choice.Perform the calculation and display the result.\n"
   ]
  },
  {
   "cell_type": "code",
   "execution_count": 5,
   "id": "d9bdf04c",
   "metadata": {},
   "outputs": [
    {
     "name": "stdout",
     "output_type": "stream",
     "text": [
      "Select operation:\n",
      "1. Addition\n",
      "2. Subtraction\n",
      "3. Multiplication\n",
      "4. Division\n",
      "Enter choice (1/2/3/4): 1\n",
      "Enter first number: 2.1\n",
      "Enter second number: 2.2\n",
      "2.1 + 2.2 = 4.300000000000001\n"
     ]
    }
   ],
   "source": [
    "# Function to perform addition\n",
    "def add(x, y):\n",
    "    return x + y\n",
    "\n",
    "# Function to perform subtraction\n",
    "def subtract(x, y):\n",
    "    return x - y\n",
    "\n",
    "# Function to perform multiplication\n",
    "def multiply(x, y):\n",
    "    return x * y\n",
    "\n",
    "# Function to perform division\n",
    "def divide(x, y):\n",
    "    if y == 0:\n",
    "        return \"Cannot divide by zero\"\n",
    "    return x / y\n",
    "\n",
    "# Main calculator function\n",
    "def calculator():\n",
    "    print(\"Select operation:\")\n",
    "    print(\"1. Addition\")\n",
    "    print(\"2. Subtraction\")\n",
    "    print(\"3. Multiplication\")\n",
    "    print(\"4. Division\")\n",
    "\n",
    "    # Take user input for choice of operation\n",
    "    choice = input(\"Enter choice (1/2/3/4): \")\n",
    "\n",
    "    # Check if the choice is valid\n",
    "    if choice not in ['1', '2', '3', '4']:\n",
    "        print(\"Invalid choice\")\n",
    "        return\n",
    "\n",
    "    # Take user input for two numbers\n",
    "    num1 = float(input(\"Enter first number: \"))\n",
    "    num2 = float(input(\"Enter second number: \"))\n",
    "\n",
    "    # Perform the selected operation\n",
    "    if choice == '1':\n",
    "        result = add(num1, num2)\n",
    "        operation = \"+\"\n",
    "    elif choice == '2':\n",
    "        result = subtract(num1, num2)\n",
    "        operation = \"-\"\n",
    "    elif choice == '3':\n",
    "        result = multiply(num1, num2)\n",
    "        operation = \"*\"\n",
    "    else:\n",
    "        result = divide(num1, num2)\n",
    "        operation = \"/\"\n",
    "\n",
    "    # Display the result\n",
    "    print(f\"{num1} {operation} {num2} = {result}\")\n",
    "\n",
    "if __name__ == \"__main__\":\n",
    "    calculator()\n"
   ]
  },
  {
   "cell_type": "code",
   "execution_count": null,
   "id": "fcad4b6f",
   "metadata": {},
   "outputs": [],
   "source": []
  },
  {
   "cell_type": "code",
   "execution_count": null,
   "id": "c1082870",
   "metadata": {},
   "outputs": [],
   "source": []
  }
 ],
 "metadata": {
  "kernelspec": {
   "display_name": "Python 3 (ipykernel)",
   "language": "python",
   "name": "python3"
  },
  "language_info": {
   "codemirror_mode": {
    "name": "ipython",
    "version": 3
   },
   "file_extension": ".py",
   "mimetype": "text/x-python",
   "name": "python",
   "nbconvert_exporter": "python",
   "pygments_lexer": "ipython3",
   "version": "3.11.4"
  }
 },
 "nbformat": 4,
 "nbformat_minor": 5
}
